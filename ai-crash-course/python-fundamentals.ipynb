{
 "cells": [
  {
   "cell_type": "markdown",
   "metadata": {},
   "source": [
    "## if statements and conditions"
   ]
  },
  {
   "cell_type": "code",
   "execution_count": 1,
   "metadata": {},
   "outputs": [
    {
     "name": "stdout",
     "output_type": "stream",
     "text": [
      "a is greater than 0\n"
     ]
    }
   ],
   "source": [
    "a = 5\n",
    "if a > 0:\n",
    "    print('a is greater than 0')\n",
    "elif a == 0:\n",
    "    print('a is equal to 0')\n",
    "else:\n",
    "    print('a is lower than 0')\n"
   ]
  },
  {
   "cell_type": "markdown",
   "metadata": {},
   "source": [
    "## for and while loops\n",
    "for y while son los dos tipos bucles que existen en python."
   ]
  },
  {
   "cell_type": "code",
   "execution_count": 2,
   "metadata": {},
   "outputs": [
    {
     "name": "stdout",
     "output_type": "stream",
     "text": [
      "1\n",
      "2\n",
      "3\n",
      "4\n",
      "5\n",
      "6\n",
      "7\n",
      "8\n",
      "9\n",
      "10\n",
      "11\n",
      "12\n",
      "13\n",
      "14\n",
      "15\n",
      "16\n",
      "17\n",
      "18\n",
      "19\n"
     ]
    }
   ],
   "source": [
    "for i in range(1, 20):\n",
    "    print(i)\n"
   ]
  },
  {
   "cell_type": "markdown",
   "metadata": {},
   "source": [
    "El bucle while sigue repitiendo cierta instrucción hasta que la condición deje de satisfacerse."
   ]
  },
  {
   "cell_type": "code",
   "execution_count": 3,
   "metadata": {},
   "outputs": [
    {
     "name": "stdout",
     "output_type": "stream",
     "text": [
      "1\n",
      "2\n",
      "3\n",
      "4\n",
      "5\n",
      "6\n",
      "7\n",
      "8\n",
      "9\n",
      "10\n",
      "11\n",
      "12\n",
      "13\n",
      "14\n",
      "15\n",
      "16\n",
      "17\n",
      "18\n",
      "19\n"
     ]
    }
   ],
   "source": [
    "stop = False\n",
    "i = 0\n",
    "while stop == False:  # alternatively it can be \"while not stop:\"\n",
    "    i += 1\n",
    "    print(i)\n",
    "    if i >= 19:\n",
    "        stop = True\n"
   ]
  },
  {
   "cell_type": "markdown",
   "metadata": {},
   "source": [
    "## functions\n",
    "Las funciones ayudan para crear un bloque de código que llegue a repetirse y luego llamar esta función en el bloque principal cada vez que sea requerido."
   ]
  },
  {
   "cell_type": "code",
   "execution_count": 5,
   "metadata": {},
   "outputs": [
    {
     "name": "stdout",
     "output_type": "stream",
     "text": [
      "0.6\n"
     ]
    }
   ],
   "source": [
    "def division(a, b):\n",
    "    result = a / b\n",
    "    return result\n",
    "d = division(3, 5)\n",
    "print(d)"
   ]
  },
  {
   "cell_type": "markdown",
   "metadata": {},
   "source": [
    "## Class\n",
    "Las clases en Python son un plan general de algo."
   ]
  },
  {
   "cell_type": "code",
   "execution_count": 1,
   "metadata": {},
   "outputs": [
    {
     "name": "stdout",
     "output_type": "stream",
     "text": [
      "5 3\n"
     ]
    }
   ],
   "source": [
    "class Bot():\n",
    "    \n",
    "    def __init__(self, posx, posy):\n",
    "        self.posx = posx\n",
    "        self.posy = posy\n",
    "    \n",
    "    def move(self, speedx, speedy):\n",
    "        self.posx += speedx\n",
    "        self.posy += speedy\n",
    "\n",
    "# Self especifica que esta función y sus variables, \n",
    "# cuyos nombres están precedidos por self, son parte de esta clase. \n",
    "# Podremos llamar a las variables propias una vez que tengamos un objeto de esta clase. \n",
    "bot = Bot(3, 4)\n",
    "\n",
    "bot.move(2, -1)\n",
    "print(bot.posx, bot.posy)\n"
   ]
  }
 ],
 "metadata": {
  "kernelspec": {
   "display_name": "Python 3",
   "language": "python",
   "name": "python3"
  },
  "language_info": {
   "codemirror_mode": {
    "name": "ipython",
    "version": 3
   },
   "file_extension": ".py",
   "mimetype": "text/x-python",
   "name": "python",
   "nbconvert_exporter": "python",
   "pygments_lexer": "ipython3",
   "version": "3.10.13"
  }
 },
 "nbformat": 4,
 "nbformat_minor": 2
}
